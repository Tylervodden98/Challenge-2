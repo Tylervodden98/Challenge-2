{
 "cells": [
  {
   "cell_type": "markdown",
   "metadata": {},
   "source": [
    "### Challenge 2 - Random Forest Algorithm!"
   ]
  },
  {
   "cell_type": "code",
   "execution_count": 47,
   "metadata": {},
   "outputs": [],
   "source": [
    "import pandas as pd\n",
    "import matplotlib.pyplot as plt\n",
    "from sklearn.preprocessing import MinMaxScaler\n",
    "from sklearn.model_selection import train_test_split\n",
    "from sklearn.ensemble import RandomForestClassifier\n",
    "from sklearn.metrics import accuracy_score, classification_report\n",
    "\n",
    "from sklearn import datasets"
   ]
  },
  {
   "cell_type": "code",
   "execution_count": 18,
   "metadata": {},
   "outputs": [
    {
     "data": {
      "text/plain": [
       "Variance    -7.0421\n",
       "Skewness   -13.7731\n",
       "Curtosis    -5.2861\n",
       "Entropy     -8.5482\n",
       "dtype: float64"
      ]
     },
     "execution_count": 18,
     "metadata": {},
     "output_type": "execute_result"
    }
   ],
   "source": [
    "#1) Load data, Prepare for training\n",
    "\n",
    "data_bill = pd.read_csv('bill_authentication.csv')\n",
    "data_bill.head()\n",
    "\n",
    "#Features for training\n",
    "X = data_bill.drop('Class', axis=1)\n",
    "y = data_bill['Class']\n"
   ]
  },
  {
   "cell_type": "code",
   "execution_count": 25,
   "metadata": {},
   "outputs": [
    {
     "data": {
      "text/plain": [
       "array([[0.76900389, 0.83964273, 0.10678269, 0.73662766],\n",
       "       [0.83565902, 0.82098209, 0.12180412, 0.64432563],\n",
       "       [0.78662859, 0.41664827, 0.31060805, 0.78695091],\n",
       "       ...,\n",
       "       [0.23738543, 0.01176814, 0.98560321, 0.52475518],\n",
       "       [0.25084193, 0.20170105, 0.76158701, 0.6606745 ],\n",
       "       [0.32452819, 0.49074676, 0.34334762, 0.88594888]])"
      ]
     },
     "execution_count": 25,
     "metadata": {},
     "output_type": "execute_result"
    }
   ],
   "source": [
    "#2) Scale and Normalize the Features Using Min-Max\n",
    "scaler = MinMaxScaler()\n",
    "X_Normalized = scaler.fit_transform(X)\n",
    "X_Normalized"
   ]
  },
  {
   "cell_type": "code",
   "execution_count": 45,
   "metadata": {},
   "outputs": [
    {
     "data": {
      "text/plain": [
       "array([0, 0, 0, 1, 0, 1, 0, 1, 0, 0, 0, 1, 0, 1, 0, 0, 0, 0, 0, 1, 0, 1,\n",
       "       1, 0, 1, 1, 0, 0, 0, 0, 0, 0, 0, 0, 1, 1, 1, 0, 0, 1, 1, 0, 1, 1,\n",
       "       0, 1, 0, 0, 1, 0, 0, 1, 1, 0, 0, 0, 1, 1, 1, 0, 0, 0, 0, 1, 0, 1,\n",
       "       1, 0, 0, 1, 0, 1, 0, 1, 1, 1, 0, 0, 0, 0, 1, 1, 0, 0, 0, 1, 0, 1,\n",
       "       1, 0, 0, 0, 1, 0, 0, 1, 1, 0, 0, 0, 1, 1, 1, 0, 0, 0, 0, 0, 0, 0,\n",
       "       1, 1, 1, 0, 0, 0, 1, 0, 0, 1, 1, 0, 0, 1, 1, 0, 0, 1, 0, 1, 1, 1,\n",
       "       0, 1, 1, 0, 1, 0, 0, 1, 0, 0, 1, 0, 0, 1, 1, 0, 0, 0, 1, 1, 1, 0,\n",
       "       1, 0, 0, 0, 0, 0, 1, 1, 1, 0, 0, 1, 1, 0, 1, 1, 1, 1, 0, 0, 0, 0,\n",
       "       1, 1, 1, 1, 0, 1, 1, 0, 0, 0, 0, 0, 0, 1, 0, 1, 0, 1, 0, 1, 0, 1,\n",
       "       1, 0, 1, 0, 1, 0, 0, 0, 0, 0, 0, 0, 0, 0, 0, 0, 1, 0, 1, 0, 1, 1,\n",
       "       0, 0, 0, 0, 1, 1, 1, 0, 1, 1, 1, 1, 1, 0, 0, 1, 1, 0, 0, 1, 1, 0,\n",
       "       0, 1, 1, 1, 0, 0, 0, 0, 1, 1, 1, 1, 0, 0, 1, 1, 1, 1, 0, 1, 0, 1,\n",
       "       0, 0, 0, 1, 1, 0, 0, 0, 1, 1, 0], dtype=int64)"
      ]
     },
     "execution_count": 45,
     "metadata": {},
     "output_type": "execute_result"
    }
   ],
   "source": [
    "#3) Train Random Forest\n",
    "X_train, X_test, y_train, y_test = train_test_split(X_Normalized, y, test_size=0.2, random_state=20)\n",
    "\n",
    "#Random Forest\n",
    "rf_classification = RandomForestClassifier(n_estimators=10, random_state=20)\n",
    "\n",
    "#Train RF on data\n",
    "rf_classification.fit(X_train, y_train)\n",
    "\n",
    "#Predict\n",
    "y_prediction = rf_classification.predict(X_test)\n",
    "y_prediction\n"
   ]
  },
  {
   "cell_type": "code",
   "execution_count": 44,
   "metadata": {},
   "outputs": [
    {
     "name": "stdout",
     "output_type": "stream",
     "text": [
      "Random Forest Accuracy is 0.9963636363636363\n"
     ]
    }
   ],
   "source": [
    "#4) Evaluate Accuracy\n",
    "accuracy = accuracy_score(y_test, y_prediction)\n",
    "print(f'Random Forest Accuracy is {accuracy}')\n",
    "\n",
    "#The Random Forest algo can predict with very high accuracy while not being dependent on the number of trees (n_estimators). This probably has to do with the low amount of classification inputs (only 4), and the high accuracy of the data after min-max normalization."
   ]
  },
  {
   "cell_type": "code",
   "execution_count": 56,
   "metadata": {},
   "outputs": [
    {
     "data": {
      "text/plain": [
       "(95.0, 100.0)"
      ]
     },
     "execution_count": 56,
     "metadata": {},
     "output_type": "execute_result"
    },
    {
     "data": {
      "image/png": "[encoded data removed]",
      "text/plain": [
       "<Figure size 640x480 with 1 Axes>"
      ]
     },
     "metadata": {},
     "output_type": "display_data"
    }
   ],
   "source": [
    "#5) Visual Representation \n",
    "n_estimate = [1,2,5,10,20,30,40,50,75,100]\n",
    "accuracy_values = []\n",
    "\n",
    "for num in n_estimate:\n",
    "  rf_classification = RandomForestClassifier(n_estimators=10, random_state=20)\n",
    "\n",
    "  #Train RF on data\n",
    "  rf_classification.fit(X_train, y_train)\n",
    "\n",
    "  #Predict\n",
    "  y_prediction = rf_classification.predict(X_test)\n",
    "  \n",
    "  accuracy_values.append(accuracy_score(y_test, y_prediction)*100)\n",
    "  \n",
    "#Showing different accuracy values based on n_estimators (trees)\n",
    "plt.scatter(x=n_estimate, y=accuracy_values)\n",
    "plt.title('Accuracy vs N Estimator Trees')\n",
    "plt.xlabel('N Estimator Trees')\n",
    "plt.ylabel('Accuracy (%)')\n",
    "\n",
    "plt.ylim(95,100)\n"
   ]
  },
  {
   "cell_type": "markdown",
   "metadata": {},
   "source": []
  }
 ],
 "metadata": {
  "kernelspec": {
   "display_name": "Python 3",
   "language": "python",
   "name": "python3"
  },
  "language_info": {
   "codemirror_mode": {
    "name": "ipython",
    "version": 3
   },
   "file_extension": ".py",
   "mimetype": "text/x-python",
   "name": "python",
   "nbconvert_exporter": "python",
   "pygments_lexer": "ipython3",
   "version": "3.10.8"
  }
 },
 "nbformat": 4,
 "nbformat_minor": 2
}
